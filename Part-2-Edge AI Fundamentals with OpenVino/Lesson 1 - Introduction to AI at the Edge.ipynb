{
 "cells": [
  {
   "cell_type": "markdown",
   "metadata": {},
   "source": [
    "Get introduced to AI at the Edge, and find out about the topics you'll learn throughout the rest of the course."
   ]
  },
  {
   "cell_type": "markdown",
   "metadata": {},
   "source": [
    "## Instructor Intro"
   ]
  },
  {
   "cell_type": "markdown",
   "metadata": {},
   "source": [
    "[Youtube Video](https://youtu.be/KogUwtKPv7Q)"
   ]
  },
  {
   "cell_type": "markdown",
   "metadata": {},
   "source": [
    "This tutorial includes AI at the Edge explanations.\n",
    "We can see;\n",
    "* Importance of Edge\n",
    "* Different Edge Applications \n",
    "* Story behind the Edge\n",
    "\n",
    "We will see the course structure, relevant tools and prerequisites in Lesson 1.\n",
    "At the end of the Part 1, we'll develop a project."
   ]
  },
  {
   "cell_type": "markdown",
   "metadata": {},
   "source": [
    "## What is AI at the Edge?"
   ]
  },
  {
   "cell_type": "markdown",
   "metadata": {},
   "source": [
    "[Youtube Video](https://youtu.be/4dro5ZHQLa4)"
   ]
  },
  {
   "cell_type": "markdown",
   "metadata": {},
   "source": [
    "What does Edge mean?\n",
    "- If we make computations on local machine, or a machine near local, this means we're using Edge computing. In necessary situations we use Edge computing, instead of Cloud computing."
   ]
  },
  {
   "cell_type": "markdown",
   "metadata": {},
   "source": [
    "Especially in real-time applications, Edge computing is vital."
   ]
  },
  {
   "cell_type": "markdown",
   "metadata": {},
   "source": [
    "## Why is AI at the Edge Important?"
   ]
  },
  {
   "cell_type": "markdown",
   "metadata": {},
   "source": [
    "[Youtube Video](https://youtu.be/TP3LMX_1uwA)"
   ]
  },
  {
   "cell_type": "markdown",
   "metadata": {},
   "source": [
    "There are lots of reasons. Here are some reasons;\n",
    "- According to the situation, lots of Network problems can occur. Sometimes cost increases while using network services in the long run, or Network infrastructure can be expensive. Latency can decreace efficiency.\n",
    "- If Real-time processing is a necessity, then we generally use Edge computing.\n",
    "- Edge computing doesn't debilitate security in lots of ways in contrast with Cloud computing.\n",
    "- Software optimizations can be done according to specific hardware."
   ]
  },
  {
   "cell_type": "markdown",
   "metadata": {},
   "source": [
    "## Applications of AI at the Edge"
   ]
  },
  {
   "cell_type": "markdown",
   "metadata": {},
   "source": [
    "[Youtube Video](https://youtu.be/E1StqFO7j9Q)"
   ]
  },
  {
   "cell_type": "markdown",
   "metadata": {},
   "source": [
    "Edge applications are used generally in IoT applications. When Real-time processing is a necessity, then Edge processing is prefered.\n",
    "This doesn't mean that we must use Edge computing on all of the applications. \n",
    "- A voice assistant can use Cloud computation, this makes it easier to use.\n",
    "- Deep Learning model training processes can be done on the Cloud, so we don't have to wait for days for that."
   ]
  },
  {
   "cell_type": "markdown",
   "metadata": {},
   "source": [
    "More applications can be done using AI at the Edge. Example usages:\n",
    "- Remotely Operated Underwater Vehicles; because they can't connect to the internet easily.\n",
    "- Planes; so that our application can control the plane health.\n",
    "- Factories; to control the processes."
   ]
  },
  {
   "cell_type": "markdown",
   "metadata": {},
   "source": [
    "## Historical Context"
   ]
  },
  {
   "cell_type": "markdown",
   "metadata": {},
   "source": [
    "[Youtube Video](https://youtu.be/Gp0CqY4_TGI)"
   ]
  },
  {
   "cell_type": "markdown",
   "metadata": {},
   "source": [
    "- We started using Edge computing seriously with ATMs in the 1970's. \n",
    "- Until the World Wide Web became popular in 1990's, even we didn't see Cloud computing.\n",
    "- Emergence of Cloud computing haven't decreased the usage of Edge computing, Edge computing is also growing in importance."
   ]
  },
  {
   "cell_type": "markdown",
   "metadata": {},
   "source": [
    "## Tutorial Structure"
   ]
  },
  {
   "cell_type": "markdown",
   "metadata": {},
   "source": [
    "[Youtube Video](https://youtu.be/BD3nzcTAczg)"
   ]
  },
  {
   "cell_type": "markdown",
   "metadata": {},
   "source": [
    "As Software:\n",
    "- We use [Intel® Distribution of OpenVINO™ Toolkit](https://software.intel.com/en-us/openvino-toolkit), generally in this tutorial.\n",
    "- This toolkit speeds up edge application development with pre-built libraries to optimize for inference at the edge.\n",
    "\n",
    "As Lessons:\n",
    "- We see the usage of Pre-trained Models which are available on the Openvino Open Model Zoo. We see that we can use Pre-trained Models which are ready to use without training a new model.\n",
    "- We see the Model Optimizer tool. This tool takes a model trained in frameworks such as TensorFlow, PyTorch, Caffee and more and create an Intermediate Representation(IR) to make inferences in the Inference Engine tool.\n",
    "- We see Inference Engine tool. The actual inference is performed using the IR model.\n",
    "- We learn some relevant Edge topics like Handling Input Streams, MQTT."
   ]
  },
  {
   "cell_type": "markdown",
   "metadata": {},
   "source": [
    "## Why Are the Topics Distinct?"
   ]
  },
  {
   "cell_type": "markdown",
   "metadata": {},
   "source": [
    "[Youtube Video](https://youtu.be/ZFrb7ZXJ_bA)"
   ]
  },
  {
   "cell_type": "markdown",
   "metadata": {},
   "source": [
    "Because Intel OpenVino is a toolkit all by itself, there are four main topics: \n",
    "- Leveraging Pre-Trained Models, \n",
    "- The Model Optimizer, \n",
    "- The Inference Engine,\n",
    "- Deploying an Edge App."
   ]
  },
  {
   "cell_type": "markdown",
   "metadata": {},
   "source": [
    "All of them are explained in this tutorial.\n",
    "* First of all we don't need to train a model from the very beginning if one of the Pre-Trained Models can solve our problem.\n",
    "* Secondly, we have to use The Model Optimizer to convert your TensorFlow, PyTorch, Caffe, MXNet, etc. models to IR(Intermediate Representation) files, because The Inference Engine accepts only IR files.\n",
    "* And we must know to use Inference Engine to perform inferences using IR files.\n",
    "* Finally, Deploying an Edge App. section explains how to deploy our application."
   ]
  },
  {
   "cell_type": "markdown",
   "metadata": {},
   "source": [
    "## Relevant Tools and Prerequisites"
   ]
  },
  {
   "cell_type": "markdown",
   "metadata": {},
   "source": [
    "[Youtube Video](https://youtu.be/s3wUC-4M4Uk)"
   ]
  },
  {
   "cell_type": "markdown",
   "metadata": {},
   "source": [
    "### Prerequisites:"
   ]
  },
  {
   "cell_type": "markdown",
   "metadata": {},
   "source": [
    "- If we know the basics of computer vision and how AI models are created, it is good.\n",
    "- Basic Python or C++ experience is needed. Python is used in this tutorial almost in all of the examples.\n",
    "- Basic Linux Bash knowledge helps to keep track of examples.\n",
    "- In this tutorial, Intel OpenVino toolkit is needed, so we must access it in some way. We can download the OpenVino Toolkit or we can use Intel® DevCloud which are explained in Relevant Tools below."
   ]
  },
  {
   "cell_type": "markdown",
   "metadata": {},
   "source": [
    "### Relevant Tools:"
   ]
  },
  {
   "cell_type": "markdown",
   "metadata": {},
   "source": [
    "Local Set-up:\n",
    "- We must be sure that our computer supplies the hardware requirements for the Intel® Distribution of OpenVINO™ Toolkit if you want to work locally. [Hardware Requirements](https://software.intel.com/en-us/openvino-toolkit/hardware)\n",
    "- If we want to run the exercises on our PC, we can download the Intel OpenVino Toolkit from [here](https://software.intel.com/en-us/openvino-toolkit/choose-download)\n",
    "- For Raspberry Pi with an [Intel Neural Compute Stick 2](https://software.intel.com/content/www/us/en/develop/articles/intel-neural-compute-stick-2-and-open-source-openvino-toolkit.html), we can see the instructions by using the link."
   ]
  },
  {
   "cell_type": "markdown",
   "metadata": {},
   "source": [
    "Intel® DevCloud - Edge:\n",
    "- [Intel® DevCloud platform](https://software.intel.com/en-us/devcloud/edge) is used for testing out edge environments.\n",
    "- We can test hardware types such as CPUs, GPUs, FPGAs, Neural Compute Stick, and more."
   ]
  },
  {
   "cell_type": "markdown",
   "metadata": {},
   "source": [
    "## What We Will Build"
   ]
  },
  {
   "cell_type": "markdown",
   "metadata": {},
   "source": [
    "[Youtube Video](https://youtu.be/e38WWETUZ8g)"
   ]
  },
  {
   "cell_type": "markdown",
   "metadata": {},
   "source": [
    "In Deploying an Edge App section at the end of the course, we’ll learn building and deploying a People Counter App at the Edge. \n",
    "In the project, we will:\n",
    "\n",
    "    Convert a model to an Intermediate Representation (IR)\n",
    "    Use the IR with the Inference Engine to perform inferences\n",
    "    \n",
    "Learn some ways of;\n",
    "\n",
    "    Processing the output of the model to gather relevant statistics\n",
    "    Sending those statistics to a server, and\n",
    "    Performing analysis on both the performance and further use cases of our model.\n",
    "\n"
   ]
  },
  {
   "cell_type": "markdown",
   "metadata": {},
   "source": [
    "Project Demo is shown in [this video](https://www.youtube.com/watch?time_continue=1&v=uWkMjUiqk0M&feature=emb_logo)."
   ]
  },
  {
   "cell_type": "markdown",
   "metadata": {},
   "source": [
    "## Recap"
   ]
  },
  {
   "cell_type": "markdown",
   "metadata": {},
   "source": [
    "[Youtube Video](https://youtu.be/tpZHjx2r5gs)"
   ]
  },
  {
   "cell_type": "markdown",
   "metadata": {},
   "source": [
    "In this Lesson we've learned;\n",
    "- The basics of what the Edge processing is.\n",
    "- The general topics of the tutorial and how they are related to each other.\n",
    "- The requirements of the course."
   ]
  },
  {
   "cell_type": "markdown",
   "metadata": {},
   "source": [
    "In the next lessons we will see these topics:\n",
    "\n",
    "    Pre-Trained Models\n",
    "    The Model Optimizer\n",
    "    The Inference Engine\n",
    "    More edge topics (MQTT, servers, etc.) in the Deploying an Edge Application lesson.\n"
   ]
  }
 ],
 "metadata": {
  "kernelspec": {
   "display_name": "Python 3",
   "language": "python",
   "name": "python3"
  },
  "language_info": {
   "codemirror_mode": {
    "name": "ipython",
    "version": 3
   },
   "file_extension": ".py",
   "mimetype": "text/x-python",
   "name": "python",
   "nbconvert_exporter": "python",
   "pygments_lexer": "ipython3",
   "version": "3.7.6"
  }
 },
 "nbformat": 4,
 "nbformat_minor": 2
}
