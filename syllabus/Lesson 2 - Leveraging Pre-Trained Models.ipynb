{
 "cells": [
  {
   "cell_type": "markdown",
   "metadata": {},
   "source": [
    "Utilize Pre-Trained Models from the Intel Distribution of OpenVINO Toolkit to build powerful edge applications, without the need to train your own model."
   ]
  },
  {
   "cell_type": "markdown",
   "metadata": {},
   "source": [
    "## Introduction"
   ]
  },
  {
   "cell_type": "markdown",
   "metadata": {},
   "source": [
    "Youtube Video:\n",
    "    https://www.youtube.com/watch?time_continue=1&v=vFNZu1VpdwE&feature=emb_logo"
   ]
  },
  {
   "cell_type": "markdown",
   "metadata": {},
   "source": [
    "Lesson 2 covers subjects below:\n",
    "* Intel OpenVINO Toolkit basics\n",
    "* Different Computer Vision model types\n",
    "* Available Pre-Trained Models in the Software\n",
    "* Choosing the right Pre-Trained Model for our Application\n",
    "* Loading and Deploying a Basic Application with a Pre-Trained Model"
   ]
  },
  {
   "cell_type": "markdown",
   "metadata": {},
   "source": [
    "## The OpenVINO™ Toolkit"
   ]
  },
  {
   "cell_type": "markdown",
   "metadata": {},
   "source": [
    "Youtube Video:\n",
    "    https://www.youtube.com/watch?time_continue=1&v=-pM9pLCnzJk&feature=emb_logo"
   ]
  },
  {
   "cell_type": "markdown",
   "metadata": {},
   "source": [
    "General information about OpenVINO Toolkit is expressed here.\n",
    "\n",
    "The OpenVINO Toolkit's name comes from \"Open Visual Inferencing and Neural Network Optimization\". This open-source software is largely focused around optimizing neural network inference.\n",
    "\n",
    "The software is developed by Intel and helps support fast inference across Intel CPUs, GPUs, FPGAs and Neural Compute Stick with a common API.\n",
    "\n",
    "OpenVINO supports models that trained some frameworks like TensorFlow or Caffe to use in Model Optimizer. Model Optimizer converts models into Intermediate Representation models. Intermediate Representation models can then be used with the Inference Engine, which helps speed inference on the related hardware. The toolkit also has a wide variety of Pre-Trained Models.\n",
    "\n",
    "Model Optimizer optimizes model speed and size so as to make models deployable on edge applications. This optimization does not increase inference accuracy - this needs to be done in training beforehand. Lower resource applications need smaller, quicker models and hardware optimizations. OpenVINO Toolkit provides them. For example, an IoT device does not have the benefit of multiple GPUs and unlimited memory space to run its apps.\n",
    "\n",
    "* The Intel Distribution of OpenVINO Toolkit is an open source library useful for edge deployment due to its performance maximizations and pre-trained models.\n",
    "\n",
    "Main site of OpenVINO Toolkit is:\n",
    "    https://software.intel.com/en-us/openvino-toolkit"
   ]
  },
  {
   "cell_type": "markdown",
   "metadata": {},
   "source": [
    "## Pre-Trained Models in OpenVINO™"
   ]
  },
  {
   "cell_type": "markdown",
   "metadata": {},
   "source": [
    "Youtube Video:\n",
    "    https://www.youtube.com/watch?v=1-Vije0cMBQ&feature=emb_logo"
   ]
  },
  {
   "cell_type": "markdown",
   "metadata": {},
   "source": [
    "There are lots of Pre-Trained Models directly in the software. Pre-Trained Models are previously trained models with high accuracy. If we find a Pre-Trained Model, then we don't need to collect data and train the model from the beginning. We learn how to preprocess inputs and handle the outputs, then we plug the model into our application.\n",
    "\n",
    "Pre-Trained Models refer specifically to the Model Zoo, containing models that already converted using the Model Optimizer. As such, we can use these models directly with the Inference Engine.\n",
    "\n",
    "Process is shown here:\n",
    "    https://software.intel.com/sites/default/files/managed/ed/e9/inference-engine-700w-300h.png\n",
    "\n",
    "Pre-Trained Models and documentations of them are listed here:\n",
    "    https://software.intel.com/en-us/openvino-toolkit/documentation/pretrained-models"
   ]
  },
  {
   "cell_type": "markdown",
   "metadata": {},
   "source": [
    "## Types of Computer Vision Models"
   ]
  },
  {
   "cell_type": "markdown",
   "metadata": {},
   "source": [
    "Youtube Video:\n",
    "    https://www.youtube.com/watch?v=E8yBgSKfCoo&feature=emb_logo"
   ]
  },
  {
   "cell_type": "markdown",
   "metadata": {},
   "source": [
    "In this part selected three types of computer vision models are covered: Classification, Detection and Segmentation.\n",
    "\n",
    "Classification predicts \"class\" of an image, or an object in an image. Prediction is determined according to \"probability\" of classes, the highest probability is determined class, but you can also see the top 5 predictions as well.\n",
    "\n",
    "Detection is used when we want to detect the objects that appear at different places in an image. Detection applications generally draw bounding boxes around the detected objects. We can say that the applications which find objects and their locations in an image is a Detection application. It also usually has some form of classification that determines the class of an object in a given bounding box. The bounding boxes have a confidence threshold so you can throw out low-confidence detections.\n",
    "\n",
    "Segmentation classifies sections of an image by classifying each and every pixel. These networks are often post-processed in some way to avoid phantom classes here and there. There are also subsets of segmentation: Semantic Segmentation and Instance Segmentation. Semantic Segmentation considers all instances of a class as one, while Instance segmentation actually consider separate instances of a class as separate objects.\n",
    "\n",
    "Here is a useful Medium post if you want to go a little further on types of computer vision models:\n",
    "    https://medium.com/analytics-vidhya/image-classification-vs-object-detection-vs-image-segmentation-f36db85fe81"
   ]
  },
  {
   "cell_type": "markdown",
   "metadata": {},
   "source": [
    "## Case Studies in Computer Vision"
   ]
  },
  {
   "cell_type": "markdown",
   "metadata": {},
   "source": [
    "Youtube Video:\n",
    "    https://www.youtube.com/watch?time_continue=1&v=7mUaovlA4aQ&feature=emb_logo"
   ]
  },
  {
   "cell_type": "markdown",
   "metadata": {},
   "source": [
    "SSD, ResNet and MobileNet neural network structures are expressed in this part.\n",
    "\n",
    "SSD is an object detection network that combined classification with object detection through the use of default bounding boxes at different network levels.\n",
    "\n",
    "ResNet utilized residual layers to \"skip\" over sections of layers, helping to avoid the vanishing gradient problem with very deep neural networks.\n",
    "\n",
    "MobileNet utilized layers like 1x1 convolutions to help cut down on computational complexity and network size, leading to fast inference without substantial decrease in accuracy.\n",
    "\n",
    "One additional note here on the ResNet architecture - the paper itself actually theorizes that very deep neural networks have convergence issues due to exponentially lower convergence rates, as opposed to just the vanishing gradient problem. The vanishing gradient problem is also thought to be helped by the use of normalization of inputs to each different layer, which is not specific to ResNet. The ResNet architecture itself, at multiple different numbers of layers, was shown to converge faster during training than a \"plain\" network without the residual layers.\n",
    "\n",
    "Single Shot Multibox Detector (SSD) model: \n",
    "    https://arxiv.org/abs/1512.02325\n",
    "    \n",
    "SSD performs classification operations on different convolutional layer feature maps using default bounding boxes.\n",
    "\n",
    "ResNet: \n",
    "    https://arxiv.org/pdf/1512.03385.pdf\n",
    "    \n",
    "The \"residual learning\" achieved in the ResNet model architecture is achieved by using \"skip\" layers that pass information forward by a couple of layers.\n",
    "\n",
    "Further Research\n",
    "\n",
    "Getting used to reading research papers is a key skill to build when working with AI and Computer Vision. Below, you can find the original research papers on some of the networks we discussed in this section.\n",
    "* SSD : https://arxiv.org/abs/1512.02325\n",
    "* YOLO : https://arxiv.org/abs/1506.02640\n",
    "* Faster RCNN : https://arxiv.org/abs/1506.01497\n",
    "* MobileNet : https://arxiv.org/abs/1704.04861\n",
    "* ResNet : https://arxiv.org/abs/1512.03385\n",
    "* Inception : https://arxiv.org/pdf/1409.4842.pdf"
   ]
  },
  {
   "cell_type": "markdown",
   "metadata": {},
   "source": [
    "## Available Pre-Trained Models in OpenVINO™"
   ]
  },
  {
   "cell_type": "markdown",
   "metadata": {},
   "source": [
    "Youtube Video:\n",
    "    https://www.youtube.com/watch?v=SoTH1jr3-HA&feature=emb_logo"
   ]
  },
  {
   "cell_type": "markdown",
   "metadata": {},
   "source": [
    "Pretrained Models page of the Intel® Distribution of OpenVINO™ toolkit is this : \n",
    "    https://software.intel.com/en-us/openvino-toolkit/documentation/pretrained-models\n"
   ]
  },
  {
   "cell_type": "markdown",
   "metadata": {},
   "source": [
    "## Exercise: Loading Pre-Trained Models"
   ]
  },
  {
   "cell_type": "markdown",
   "metadata": {},
   "source": [
    "We try to download and load some of the pre-trained models available in the OpenVino toolkit."
   ]
  },
  {
   "cell_type": "markdown",
   "metadata": {},
   "source": [
    "## Solution: Loading Pre-Trained Models"
   ]
  },
  {
   "cell_type": "markdown",
   "metadata": {},
   "source": [
    "Youtube Video:\n",
    "    https://www.youtube.com/watch?v=QMfTUdWFsGw&feature=emb_logo"
   ]
  },
  {
   "cell_type": "markdown",
   "metadata": {},
   "source": [
    "## Optimizations on the Pre-Trained Models"
   ]
  },
  {
   "cell_type": "markdown",
   "metadata": {},
   "source": [
    "Youtube Video:\n",
    "    https://www.youtube.com/watch?v=nKvZYnOnWm4&feature=emb_logo"
   ]
  },
  {
   "cell_type": "markdown",
   "metadata": {},
   "source": [
    "## Choosing the Right Model for Your App"
   ]
  },
  {
   "cell_type": "markdown",
   "metadata": {},
   "source": [
    "Youtube Video:\n",
    "    https://www.youtube.com/watch?v=CWC195DzgAI&feature=emb_logo"
   ]
  },
  {
   "cell_type": "markdown",
   "metadata": {},
   "source": [
    "## Pre-processing Inputs"
   ]
  },
  {
   "cell_type": "markdown",
   "metadata": {},
   "source": [
    "Youtube Video:\n",
    "    https://www.youtube.com/watch?v=E9huKos96Uk&feature=emb_logo"
   ]
  },
  {
   "cell_type": "markdown",
   "metadata": {},
   "source": [
    "## Exercise: Pre-processing Inputs"
   ]
  },
  {
   "cell_type": "markdown",
   "metadata": {},
   "source": [
    "We preprocess the inputs according to expectations of the models."
   ]
  },
  {
   "cell_type": "markdown",
   "metadata": {},
   "source": [
    "## Solution: Pre-processing Inputs"
   ]
  },
  {
   "cell_type": "markdown",
   "metadata": {},
   "source": [
    "Youtube Video:\n",
    "    https://www.youtube.com/watch?v=erNsB5nXgW4&feature=emb_logo"
   ]
  },
  {
   "cell_type": "markdown",
   "metadata": {},
   "source": [
    "## Handling Network Outputs"
   ]
  },
  {
   "cell_type": "markdown",
   "metadata": {},
   "source": [
    "Youtube Video:\n",
    "    https://www.youtube.com/watch?time_continue=1&v=pREe4P5yygM&feature=emb_logo"
   ]
  },
  {
   "cell_type": "markdown",
   "metadata": {},
   "source": [
    "## Running Your First Edge App"
   ]
  },
  {
   "cell_type": "markdown",
   "metadata": {},
   "source": [
    "Youtube Video:\n",
    "    https://www.youtube.com/watch?v=FANZZXUqGac&feature=emb_logo"
   ]
  },
  {
   "cell_type": "markdown",
   "metadata": {},
   "source": [
    "## Exercise: Deploy An App at the Edge"
   ]
  },
  {
   "cell_type": "markdown",
   "metadata": {},
   "source": [
    "We downloaded some pre-trained models and we made preprocessing operations on the input images.\n",
    "Now we deploy our first application in this example."
   ]
  },
  {
   "cell_type": "markdown",
   "metadata": {},
   "source": [
    "## Solution: Deploy an App at the Edge"
   ]
  },
  {
   "cell_type": "markdown",
   "metadata": {},
   "source": [
    "Youtube Video:\n",
    "    https://www.youtube.com/watch?v=X9yI7U2Rn00&feature=emb_logo"
   ]
  },
  {
   "cell_type": "markdown",
   "metadata": {},
   "source": [
    "## Recap"
   ]
  },
  {
   "cell_type": "markdown",
   "metadata": {},
   "source": [
    "Youtube Video:\n",
    "    https://www.youtube.com/watch?time_continue=1&v=o-fWs0BwbyM&feature=emb_logo"
   ]
  },
  {
   "cell_type": "markdown",
   "metadata": {},
   "source": [
    "## Lesson Glossary"
   ]
  },
  {
   "cell_type": "markdown",
   "metadata": {},
   "source": [
    "### Edge Application"
   ]
  },
  {
   "cell_type": "markdown",
   "metadata": {},
   "source": [
    "Applications that make almost all processing at the Edge is expressed as Edge Applications."
   ]
  },
  {
   "cell_type": "markdown",
   "metadata": {},
   "source": [
    "### OpenVINO™ Toolkit"
   ]
  },
  {
   "cell_type": "markdown",
   "metadata": {},
   "source": [
    "### Pre-Trained Model"
   ]
  },
  {
   "cell_type": "markdown",
   "metadata": {},
   "source": [
    "### Transfer Learning"
   ]
  },
  {
   "cell_type": "markdown",
   "metadata": {},
   "source": [
    "### Image Classification"
   ]
  },
  {
   "cell_type": "markdown",
   "metadata": {},
   "source": [
    "### Object Detection"
   ]
  },
  {
   "cell_type": "markdown",
   "metadata": {},
   "source": [
    "### Semantic Segmentation"
   ]
  },
  {
   "cell_type": "markdown",
   "metadata": {},
   "source": [
    "### Instance Segmentation"
   ]
  },
  {
   "cell_type": "markdown",
   "metadata": {},
   "source": [
    "### SSD"
   ]
  },
  {
   "cell_type": "markdown",
   "metadata": {},
   "source": [
    "### YOLO"
   ]
  },
  {
   "cell_type": "markdown",
   "metadata": {},
   "source": [
    "### Faster R-CNN"
   ]
  },
  {
   "cell_type": "markdown",
   "metadata": {},
   "source": [
    "### MobileNet"
   ]
  },
  {
   "cell_type": "markdown",
   "metadata": {},
   "source": [
    "### ResNet"
   ]
  },
  {
   "cell_type": "markdown",
   "metadata": {},
   "source": [
    "### Inception"
   ]
  },
  {
   "cell_type": "markdown",
   "metadata": {},
   "source": [
    "### Inference Precision"
   ]
  }
 ],
 "metadata": {
  "kernelspec": {
   "display_name": "Python 3",
   "language": "python",
   "name": "python3"
  },
  "language_info": {
   "codemirror_mode": {
    "name": "ipython",
    "version": 3
   },
   "file_extension": ".py",
   "mimetype": "text/x-python",
   "name": "python",
   "nbconvert_exporter": "python",
   "pygments_lexer": "ipython3",
   "version": "3.7.4"
  }
 },
 "nbformat": 4,
 "nbformat_minor": 2
}
