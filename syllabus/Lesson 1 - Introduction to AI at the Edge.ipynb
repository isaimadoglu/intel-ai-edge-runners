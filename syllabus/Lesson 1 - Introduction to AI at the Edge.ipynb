{
 "cells": [
  {
   "cell_type": "markdown",
   "metadata": {},
   "source": [
    "Get introduced to AI at the Edge, and find out about the topics you'll learn throughout the rest of the course."
   ]
  },
  {
   "cell_type": "markdown",
   "metadata": {},
   "source": [
    "## Instructor Intro"
   ]
  },
  {
   "cell_type": "markdown",
   "metadata": {},
   "source": [
    "Youtube Video:\n",
    "    https://www.youtube.com/watch?time_continue=51&v=KogUwtKPv7Q&feature=emb_logo"
   ]
  },
  {
   "cell_type": "markdown",
   "metadata": {},
   "source": [
    "This course includes AI at the Edge lessons.\n",
    "We can see;\n",
    "* Importance of Edge\n",
    "* Different Edge Applications \n",
    "* Story behind the Edge\n",
    "\n",
    "We will see the course structure, relevant tools and prerequisites in Lesson 1.\n",
    "At the end of the course, we'll develop a project."
   ]
  },
  {
   "cell_type": "markdown",
   "metadata": {},
   "source": [
    "## What is AI at the Edge?"
   ]
  },
  {
   "cell_type": "markdown",
   "metadata": {},
   "source": [
    "Youtube Video: \n",
    "    https://www.youtube.com/watch?time_continue=1&v=4dro5ZHQLa4&feature=emb_logo"
   ]
  },
  {
   "cell_type": "markdown",
   "metadata": {},
   "source": [
    "What does Edge mean?\n",
    "- If we make computations on local machine, or a machine near local, this means Edge computing. In necessary situations we use Edge computing, instead of Cloud computing.\n",
    "Especially in real-time applications, Edge computing is vital."
   ]
  },
  {
   "cell_type": "markdown",
   "metadata": {},
   "source": [
    "## Why is AI at the Edge Important?"
   ]
  },
  {
   "cell_type": "markdown",
   "metadata": {},
   "source": [
    "Youtube Video: \n",
    "    https://www.youtube.com/watch?v=TP3LMX_1uwA&feature=emb_logo"
   ]
  },
  {
   "cell_type": "markdown",
   "metadata": {},
   "source": [
    "There are lots of reasons. Here are some reasons;\n",
    "- According to the situation, lots of Network problems can occur. Sometimes cost increases while using network services in the long run, or Network infrastructure can be expensive. Latency can decreace efficiency.\n",
    "- If Real-time processing is a necessity, then we generally use Edge computing.\n",
    "- Edge computing doesn't debilitate security in lots of ways in contrast with Cloud computing.\n",
    "- Software optimizations can be done according to specific hardware."
   ]
  },
  {
   "cell_type": "markdown",
   "metadata": {},
   "source": [
    "## Applications of AI at the Edge"
   ]
  },
  {
   "cell_type": "markdown",
   "metadata": {},
   "source": [
    "Youtube Video: \n",
    "    https://www.youtube.com/watch?time_continue=1&v=E1StqFO7j9Q&feature=emb_logo"
   ]
  },
  {
   "cell_type": "markdown",
   "metadata": {},
   "source": [
    "Edge applications are used generally in Iot applications. When Real-time processing is a necessity, then Edge processing is prefered.\n",
    "This doesn't mean that we must use Edge computing on all of the applications. \n",
    "- A voice assistant can use Cloud computation, this makes it easier to use.\n",
    "- Deep Learning model training processes can be done on the Cloud, so we don't have to wait for days for that."
   ]
  },
  {
   "cell_type": "markdown",
   "metadata": {},
   "source": [
    "## Historical Context"
   ]
  },
  {
   "cell_type": "markdown",
   "metadata": {},
   "source": [
    "Youtube Video: \n",
    "    https://www.youtube.com/watch?v=Gp0CqY4_TGI&feature=emb_logo"
   ]
  },
  {
   "cell_type": "markdown",
   "metadata": {},
   "source": [
    "We started using Edge computing seriously with ATMs in the 1970's. Until the World Wide Web became popular in 1990's, even we didn't see Cloud computing.\n",
    "Emergence of Cloud computing haven't decreased the usage of Edge computing, Edge computing is also growing in importance."
   ]
  },
  {
   "cell_type": "markdown",
   "metadata": {},
   "source": [
    "## Course Structure"
   ]
  },
  {
   "cell_type": "markdown",
   "metadata": {},
   "source": [
    "Youtube Video: \n",
    "    https://www.youtube.com/watch?time_continue=1&v=BD3nzcTAczg&feature=emb_logo"
   ]
  },
  {
   "cell_type": "markdown",
   "metadata": {},
   "source": [
    "Course Structure: Software\n",
    "- We use Intel® Distribution of OpenVINO™ Toolkit, generally in this course.\n",
    "- This toolkit speeds up edge application development with pre-built libraries to optimize for inference at the edge.\n",
    "Course Structure: Lessons\n",
    "- We see the usage of Pre-trained Models which are available on the Openvino Open Model Zoo. We see that we can use Pre-trained Models which are ready to use without training a new model.\n",
    "- We see the Model Optimizer tool. This tool takes a model trained in frameworks such as TensorFlow, PyTorch, Caffee and more and create an Intermediate Representation(IR) to make inferences in the Inference Engine tool.\n",
    "- We see Inference Engine tool. The actual inference is performed using the IR model.\n",
    "- We learn some relevant Edge topics like Handling Input Streams, MQTT."
   ]
  },
  {
   "cell_type": "markdown",
   "metadata": {},
   "source": [
    "## Why Are the Topics Distinct?"
   ]
  },
  {
   "cell_type": "markdown",
   "metadata": {},
   "source": [
    "Youtube Video: \n",
    "    https://www.youtube.com/watch?time_continue=1&v=ZFrb7ZXJ_bA&feature=emb_logo"
   ]
  },
  {
   "cell_type": "markdown",
   "metadata": {},
   "source": [
    "## Relevant Tools and Prerequisites"
   ]
  },
  {
   "cell_type": "markdown",
   "metadata": {},
   "source": [
    "Youtube Video: \n",
    "    https://www.youtube.com/watch?v=s3wUC-4M4Uk&feature=emb_logo"
   ]
  },
  {
   "cell_type": "markdown",
   "metadata": {},
   "source": [
    "## What You Will Build"
   ]
  },
  {
   "cell_type": "markdown",
   "metadata": {},
   "source": [
    "Youtube Video: \n",
    "    https://www.youtube.com/watch?v=e38WWETUZ8g&feature=emb_logo"
   ]
  },
  {
   "cell_type": "markdown",
   "metadata": {},
   "source": [
    "## Recap"
   ]
  },
  {
   "cell_type": "markdown",
   "metadata": {},
   "source": [
    "Youtube Video: \n",
    "    https://www.youtube.com/watch?v=tpZHjx2r5gs&feature=emb_logo"
   ]
  }
 ],
 "metadata": {
  "kernelspec": {
   "display_name": "Python 3",
   "language": "python",
   "name": "python3"
  },
  "language_info": {
   "codemirror_mode": {
    "name": "ipython",
    "version": 3
   },
   "file_extension": ".py",
   "mimetype": "text/x-python",
   "name": "python",
   "nbconvert_exporter": "python",
   "pygments_lexer": "ipython3",
   "version": "3.7.4"
  }
 },
 "nbformat": 4,
 "nbformat_minor": 2
}
