{
 "cells": [
  {
   "cell_type": "markdown",
   "metadata": {},
   "source": [
    " Before diving into the program, let's first find out more about what taking a Udacity Nanodegree program is like and how to succeed. We'll also cover software requirements."
   ]
  },
  {
   "cell_type": "markdown",
   "metadata": {},
   "source": [
    "## Welcome to Udacity"
   ]
  },
  {
   "cell_type": "markdown",
   "metadata": {},
   "source": [
    "[Youtube Video](https://youtu.be/9QadFJRKrEA)"
   ]
  },
  {
   "cell_type": "markdown",
   "metadata": {},
   "source": [
    "## Welcome to the Nanodegree Program Experience"
   ]
  },
  {
   "cell_type": "markdown",
   "metadata": {},
   "source": [
    "[Youtube Video](https://youtu.be/gd0Z0S58Y68)"
   ]
  },
  {
   "cell_type": "markdown",
   "metadata": {},
   "source": [
    "## How to Succeed"
   ]
  },
  {
   "cell_type": "markdown",
   "metadata": {},
   "source": [
    "[Youtube Video](https://youtu.be/hVwUijsLKzw)"
   ]
  },
  {
   "cell_type": "markdown",
   "metadata": {},
   "source": [
    "## Welcome to Intel® Edge AI for IoT Developers"
   ]
  },
  {
   "cell_type": "markdown",
   "metadata": {},
   "source": [
    " As we're here to learn Intel Edge AI features, we are assumed that we have a working knowledge of deep learning models and how to train and deploy them.\n",
    "Edge AI applications are used in real-time data processing cases that we should use AI models on local devices."
   ]
  },
  {
   "cell_type": "markdown",
   "metadata": {},
   "source": [
    " IoT industry uses Edge AI applications more, day by day especially in intelligence needed cases.\n",
    "In this tutorial, we learn how to develop and optimize Edge AI systems using Intel’s® OpenVINO™ toolkit and how to utilize Intel’s® DevCloud platform to test different model configurations before we purchase any hardware."
   ]
  },
  {
   "cell_type": "markdown",
   "metadata": {},
   "source": [
    " We're going to learn how to use pre-trained models and use them on existing apps. Then we'll take it further, we'll see how to choose the right hardware given a set of requirements. And finally, we'll learn some more advanced optimization techniques to improve the performance of your system.\n",
    "\n",
    " After we complete this tutorial, we'll be ready to design, test and deploy different kind of edge AI applications for a broad type of different companies, industries and devices. After we finish this tutorial, we will be able to:\n",
    "\n",
    "- Use the Intel® OpenVINO™ toolkit to fast-track the development of high-performance computer vision and deep learning inference applications.\n",
    "- Run pre-trained deep learning models for computer vision on-premise.\n",
    "- Choose the key hardware specifications of various hardware types (CPU, VPU, FPGA, and Integrated GPU) for our project.\n",
    "- Utilize Intel's DevCloud to test model performance on various hardware types (CPU, VPU, FPGA, and Integrated GPU)."
   ]
  },
  {
   "cell_type": "markdown",
   "metadata": {},
   "source": [
    " This tutorial consists of 3 courses and 3 projects. Each project we build will be an opportunity to demonstrate what we’ve learned in the course and will demonstrate to potential employers that we have skills in these areas."
   ]
  },
  {
   "cell_type": "markdown",
   "metadata": {},
   "source": [
    "## Prerequisites & Other Requirements"
   ]
  },
  {
   "cell_type": "markdown",
   "metadata": {},
   "source": [
    "### Prerequisites"
   ]
  },
  {
   "cell_type": "markdown",
   "metadata": {},
   "source": [
    "To understand this tutorial clearly, we should have knowledge about the following topics:\n",
    "- Intermediate knowledge of Python programming\n",
    "- Knowledge about training and deploying deep learning models\n",
    "- Familiarity with different DL layers and architectures (CNN based)\n",
    "- Familiarity with the command line (bash terminal)\n",
    "- Hands-on Experience of OpenCV"
   ]
  },
  {
   "cell_type": "markdown",
   "metadata": {},
   "source": [
    "### Hardware & Software Requirements"
   ]
  },
  {
   "cell_type": "markdown",
   "metadata": {},
   "source": [
    "Please review the requirements to make sure you have what you need to complete this tutorial:\n",
    "\n",
    "- 64-bit operating system that has 6th or newer generation of Intel processor running either Windows 10, Ubuntu 18.04.3 LTS, or macOS 10.13 or higher.\n",
    "- [OpenVINO (version 2020.1)](https://docs.openvinotoolkit.org/2020.1/index.html) on your local environment. This tool is essential.\n",
    "- [Intel's Deep Learning Workbench (version 2020.1)](https://docs.openvinotoolkit.org/2020.1/_docs_Workbench_DG_Install_Workbench.html). Please note that DL Workbench does not currently support Windows 10 Home Edition(June 2020). We are recommended either upgrade to Windows 10 Professional or use a Linux based system.\n",
    "- [Intel's VTune Amplifier](https://software.intel.com/en-us/get-started-with-vtune).\n"
   ]
  },
  {
   "cell_type": "markdown",
   "metadata": {},
   "source": [
    "## Notebooks and Workspaces"
   ]
  },
  {
   "cell_type": "markdown",
   "metadata": {},
   "source": [
    "### Jupyter Notebooks"
   ]
  },
  {
   "cell_type": "markdown",
   "metadata": {},
   "source": [
    "In this tutorial, we'll be using a tool called Jupyter Notebooks. Basically, a notebook is a web application that allows you to combine explanatory text, math equations, code and visualizations all in a single document."
   ]
  },
  {
   "cell_type": "markdown",
   "metadata": {},
   "source": [
    "This tutorial is also a Jupyter Notebook."
   ]
  },
  {
   "cell_type": "markdown",
   "metadata": {},
   "source": [
    "#### Code cells"
   ]
  },
  {
   "cell_type": "markdown",
   "metadata": {},
   "source": [
    "We can enter code into a cell in the notebook. We can then run that cell. We generally use `Shift + Enter` but we can also use the \"Run\" button above. When we run a code cell, the output will be displayed below the cell.\n",
    "\n",
    "We can change the type of any cell to either Code cell or Markdown cell."
   ]
  },
  {
   "cell_type": "markdown",
   "metadata": {},
   "source": [
    "#### Markdown cells"
   ]
  },
  {
   "cell_type": "markdown",
   "metadata": {},
   "source": [
    "[Markdown](https://www.markdownguide.org/) cells are used for displaying explanations, images, equations and so on. We can use markdown to format the text in the cells."
   ]
  },
  {
   "cell_type": "markdown",
   "metadata": {},
   "source": [
    "### Workspaces"
   ]
  },
  {
   "cell_type": "markdown",
   "metadata": {},
   "source": [
    "In this tutorial, we'll run Jupyter Notebooks, so we can install [Anaconda distribution](https://www.anaconda.com/) on our computer or open our notebook on [Goole Colab](https://colab.research.google.com/)."
   ]
  },
  {
   "cell_type": "markdown",
   "metadata": {},
   "source": [
    "## Graffiti Tutorial"
   ]
  },
  {
   "cell_type": "markdown",
   "metadata": {},
   "source": [
    " Jupyter Graffiti is introduced [here](https://blog.udacity.com/2019/04/interactive-screencasts-jupyter-graffiti-c-plus-plus-nanodegree.html)."
   ]
  }
 ],
 "metadata": {
  "kernelspec": {
   "display_name": "Python 3",
   "language": "python",
   "name": "python3"
  },
  "language_info": {
   "codemirror_mode": {
    "name": "ipython",
    "version": 3
   },
   "file_extension": ".py",
   "mimetype": "text/x-python",
   "name": "python",
   "nbconvert_exporter": "python",
   "pygments_lexer": "ipython3",
   "version": "3.7.6"
  }
 },
 "nbformat": 4,
 "nbformat_minor": 2
}
